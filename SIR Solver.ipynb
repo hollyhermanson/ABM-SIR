{
 "cells": [
  {
   "cell_type": "markdown",
   "metadata": {},
   "source": [
    "### SIR Model Solving ###\n",
    "A worksheet for solving the SIR model outlined in https://maa.org/press/periodicals/loci/joma/the-sir-model-for-spread-of-disease-eulers-method-for-systems"
   ]
  },
  {
   "cell_type": "code",
   "execution_count": 4,
   "metadata": {},
   "outputs": [],
   "source": [
    "var('s i r t')\n",
    "b=1/2\n",
    "k=1/4\n",
    "sys = [-b*s*i, b*s*i - k*i, k*i]\n",
    "ics = [0,1,1.27e-6,0]\n",
    "P = desolve_system_rk4(sys,[s,i,r],ics=ics,ivar=t, end_points=120)"
   ]
  },
  {
   "cell_type": "code",
   "execution_count": 5,
   "metadata": {},
   "outputs": [],
   "source": [
    "S_pts = [[i,j] for i,j,k,l in P]\n",
    "S_plot = list_plot(S_pts,color='blue')\n",
    "I_pts = [[i,k] for i,j,k,l in P]\n",
    "I_plot = list_plot(I_pts,color='red')\n",
    "R_pts = [[i,l] for i,j,k,l in P]\n",
    "R_plot = list_plot(R_pts,color='green')\n"
   ]
  },
  {
   "cell_type": "code",
   "execution_count": 6,
   "metadata": {},
   "outputs": [
    {
     "data": {
      "image/png": "[encoded data removed]",
      "text/plain": [
       "Graphics object consisting of 3 graphics primitives"
      ]
     },
     "metadata": {},
     "output_type": "display_data"
    }
   ],
   "source": [
    "show(S_plot+I_plot+R_plot)"
   ]
  },
  {
   "cell_type": "code",
   "execution_count": 7,
   "metadata": {},
   "outputs": [
    {
     "name": "stdout",
     "output_type": "stream",
     "text": [
      "[M == 3.067894083525897, mu == 54.74482162594419, sigma == 8.252385070296123]\n"
     ]
    }
   ],
   "source": [
    "# Fit a Gaussian\n",
    "var('x sigma mu M')\n",
    "assume(sigma>0)\n",
    "assume(M>0)\n",
    "model(x) = M * (1/sqrt(2*pi*sigma**2)) * exp(-(x-mu)**2 / (2*sigma**2))\n",
    "fit_result = find_fit(I_pts, model, initial_guess=[.1, 75, 11])  # Replace with your initial guesses\n",
    "print(fit_result)"
   ]
  },
  {
   "cell_type": "code",
   "execution_count": 10,
   "metadata": {},
   "outputs": [],
   "source": [
    "#?list_plot"
   ]
  },
  {
   "cell_type": "code",
   "execution_count": 9,
   "metadata": {},
   "outputs": [
    {
     "data": {
      "text/plain": [
       "0.147079925063661"
      ]
     },
     "execution_count": 9,
     "metadata": {},
     "output_type": "execute_result"
    }
   ],
   "source": [
    "N(3.06 * (1/sqrt(2*pi*(8.3)**2)))"
   ]
  },
  {
   "cell_type": "code",
   "execution_count": null,
   "metadata": {},
   "outputs": [],
   "source": [
    "show(I_plot)"
   ]
  },
  {
   "cell_type": "code",
   "execution_count": 11,
   "metadata": {},
   "outputs": [],
   "source": [
    "import csv"
   ]
  },
  {
   "cell_type": "code",
   "execution_count": 17,
   "metadata": {},
   "outputs": [],
   "source": [
    "with open(\"one-hundred-thousand.csv\", 'r') as csvfile:\n",
    "    reader = csv.reader(csvfile)\n",
    "    data = []\n",
    "    for row in reader:\n",
    "        data.append(row)\n",
    "    \n",
    "#print(data)"
   ]
  },
  {
   "cell_type": "code",
   "execution_count": 18,
   "metadata": {},
   "outputs": [],
   "source": [
    "data_float = []\n",
    "for i in range(1, len(data)):\n",
    "    data_float.append([float(data[i][0]),float(data[i][1])])\n",
    "#print(data_float)"
   ]
  },
  {
   "cell_type": "code",
   "execution_count": null,
   "metadata": {},
   "outputs": [],
   "source": [
    "#for i in range(1,len(data)):\n",
    "    #print(i)"
   ]
  },
  {
   "cell_type": "code",
   "execution_count": 15,
   "metadata": {},
   "outputs": [
    {
     "name": "stdout",
     "output_type": "stream",
     "text": [
      "[M == 18.591043203652536, mu == 63.999085756553875, sigma == 0.001226668096702584]\n"
     ]
    }
   ],
   "source": [
    "var('x sigma mu M')\n",
    "assume(sigma>0)\n",
    "assume(M>0)\n",
    "model(x) = M * (1/sqrt(2*pi*sigma**2)) * exp(-(x-mu)**2 / (2*sigma**2))\n",
    "fit_result1 = find_fit(data_float, model, initial_guess=[.1, 75, 11])  # Replace with your initial guesses\n",
    "print(fit_result1)"
   ]
  },
  {
   "cell_type": "code",
   "execution_count": 16,
   "metadata": {},
   "outputs": [
    {
     "data": {
      "text/plain": [
       "6044.28442759791"
      ]
     },
     "execution_count": 16,
     "metadata": {},
     "output_type": "execute_result"
    }
   ],
   "source": [
    "N(18.59 * (1/sqrt(2*pi*(0.001227)**2)))\n"
   ]
  },
  {
   "cell_type": "code",
   "execution_count": null,
   "metadata": {},
   "outputs": [],
   "source": [
    "#One Million"
   ]
  },
  {
   "cell_type": "code",
   "execution_count": 19,
   "metadata": {},
   "outputs": [],
   "source": [
    "with open(\"onemillion.csv\", 'r') as csvfile:\n",
    "    reader = csv.reader(csvfile)\n",
    "    data = []\n",
    "    for row in reader:\n",
    "        data.append(row)\n",
    "    \n",
    "#print(data)"
   ]
  },
  {
   "cell_type": "code",
   "execution_count": 20,
   "metadata": {},
   "outputs": [],
   "source": [
    "data_float = []\n",
    "for i in range(1, len(data)):\n",
    "    data_float.append([float(data[i][0]),float(data[i][1])])\n",
    "#print(data_float)"
   ]
  },
  {
   "cell_type": "code",
   "execution_count": 21,
   "metadata": {},
   "outputs": [
    {
     "name": "stdout",
     "output_type": "stream",
     "text": [
      "[M == 2834274.744477874, mu == 46.34000792242123, sigma == 22.819679266625894]\n"
     ]
    }
   ],
   "source": [
    "var('x sigma mu M')\n",
    "assume(sigma>0)\n",
    "assume(M>0)\n",
    "model(x) = M * (1/sqrt(2*pi*sigma**2)) * exp(-(x-mu)**2 / (2*sigma**2))\n",
    "fit_result1 = find_fit(data_float, model, initial_guess=[.1, 75, 11])  # Replace with your initial guesses\n",
    "print(fit_result1)"
   ]
  },
  {
   "cell_type": "code",
   "execution_count": 23,
   "metadata": {},
   "outputs": [
    {
     "data": {
      "text/plain": [
       "49549.1679273482"
      ]
     },
     "execution_count": 23,
     "metadata": {},
     "output_type": "execute_result"
    }
   ],
   "source": [
    "N(2834274.7 * (1/sqrt(2*pi*(22.82)**2)))"
   ]
  },
  {
   "cell_type": "code",
   "execution_count": 24,
   "metadata": {},
   "outputs": [],
   "source": [
    "#doing everything right!!!!\n"
   ]
  },
  {
   "cell_type": "code",
   "execution_count": 49,
   "metadata": {},
   "outputs": [],
   "source": [
    "with open(\"correct.csv\", 'r') as csvfile:\n",
    "    reader = csv.reader(csvfile)\n",
    "    data = []\n",
    "    for row in reader:\n",
    "        data.append(row)\n",
    "    \n",
    "#print(data)"
   ]
  },
  {
   "cell_type": "code",
   "execution_count": 50,
   "metadata": {},
   "outputs": [],
   "source": [
    "data_float = []\n",
    "for i in range(1, len(data)):\n",
    "    data_float.append([float(data[i][0]),float(data[i][1])])\n",
    "#print(data_float)"
   ]
  },
  {
   "cell_type": "code",
   "execution_count": 51,
   "metadata": {},
   "outputs": [
    {
     "name": "stdout",
     "output_type": "stream",
     "text": [
      "[M == 76.94319286695811, mu == 11.806362844517675, sigma == 13.554643658507814]\n"
     ]
    }
   ],
   "source": [
    "var('x sigma mu M')\n",
    "assume(sigma>0)\n",
    "assume(M>0)\n",
    "model(x) = M * (1/sqrt(2*pi*sigma**2)) * exp(-(x-mu)**2 / (2*sigma**2))\n",
    "fit_result1 = find_fit(data_float, model, initial_guess=[.1, 75, 11])  # Replace with your initial guesses\n",
    "print(fit_result1)"
   ]
  },
  {
   "cell_type": "code",
   "execution_count": 52,
   "metadata": {},
   "outputs": [
    {
     "data": {
      "text/plain": [
       "2.26528553904695"
      ]
     },
     "execution_count": 52,
     "metadata": {},
     "output_type": "execute_result"
    }
   ],
   "source": [
    "N(76.94 * (1/sqrt(2*pi*(13.55)**2)))"
   ]
  },
  {
   "cell_type": "code",
   "execution_count": 53,
   "metadata": {},
   "outputs": [
    {
     "data": {
      "image/png": "[encoded data removed]",
      "text/plain": [
       "Graphics object consisting of 1 graphics primitive"
      ]
     },
     "metadata": {},
     "output_type": "display_data"
    }
   ],
   "source": [
    "plot1 = list_plot(data_float,color='green')\n",
    "show(plot1)"
   ]
  },
  {
   "cell_type": "code",
   "execution_count": null,
   "metadata": {},
   "outputs": [],
   "source": [
    "# better??"
   ]
  },
  {
   "cell_type": "code",
   "execution_count": 54,
   "metadata": {},
   "outputs": [],
   "source": [
    "with open(\"again.csv\", 'r') as csvfile:\n",
    "    reader = csv.reader(csvfile)\n",
    "    data = []\n",
    "    for row in reader:\n",
    "        data.append(row)\n",
    "    \n",
    "#print(data)"
   ]
  },
  {
   "cell_type": "code",
   "execution_count": 55,
   "metadata": {},
   "outputs": [],
   "source": [
    "data_float = []\n",
    "for i in range(1, len(data)):\n",
    "    data_float.append([float(data[i][0]),float(data[i][1])])\n",
    "#print(data_float)"
   ]
  },
  {
   "cell_type": "code",
   "execution_count": 56,
   "metadata": {},
   "outputs": [
    {
     "name": "stdout",
     "output_type": "stream",
     "text": [
      "[M == 52311.12787472911, mu == 42.02188850294341, sigma == 26.013382203373858]\n"
     ]
    }
   ],
   "source": [
    "var('x sigma mu M')\n",
    "assume(sigma>0)\n",
    "assume(M>0)\n",
    "model(x) = M * (1/sqrt(2*pi*sigma**2)) * exp(-(x-mu)**2 / (2*sigma**2))\n",
    "fit_result1 = find_fit(data_float, model, initial_guess=[.1, 75, 11])  # Replace with your initial guesses\n",
    "print(fit_result1)"
   ]
  },
  {
   "cell_type": "code",
   "execution_count": 37,
   "metadata": {},
   "outputs": [
    {
     "data": {
      "text/plain": [
       "802.349922821061"
      ]
     },
     "execution_count": 37,
     "metadata": {},
     "output_type": "execute_result"
    }
   ],
   "source": [
    "N(52311.13 * (1/sqrt(2*pi*(26.01)**2)))"
   ]
  },
  {
   "cell_type": "code",
   "execution_count": 60,
   "metadata": {},
   "outputs": [
    {
     "data": {
      "image/png": "[encoded data removed]",
      "text/plain": [
       "Graphics object consisting of 1 graphics primitive"
      ]
     },
     "metadata": {},
     "output_type": "display_data"
    }
   ],
   "source": [
    "plot1 = list_plot(data_float,color='green')\n",
    "show(plot1)"
   ]
  },
  {
   "cell_type": "code",
   "execution_count": 38,
   "metadata": {},
   "outputs": [],
   "source": [
    "# now with a lot infected to start"
   ]
  },
  {
   "cell_type": "code",
   "execution_count": 61,
   "metadata": {},
   "outputs": [],
   "source": [
    "with open(\"still.1354.csv\", 'r') as csvfile:\n",
    "    reader = csv.reader(csvfile)\n",
    "    data = []\n",
    "    for row in reader:\n",
    "        data.append(row)\n",
    "    \n",
    "#print(data)\n",
    "\n",
    "data_float = []\n",
    "for i in range(1, len(data)):\n",
    "    data_float.append([float(data[i][0]),float(data[i][1])])\n",
    "#print(data_float)"
   ]
  },
  {
   "cell_type": "code",
   "execution_count": 62,
   "metadata": {},
   "outputs": [
    {
     "name": "stdout",
     "output_type": "stream",
     "text": [
      "[M == 64479.43277546676, mu == 19.169484861189545, sigma == 16.434204634427427]\n"
     ]
    }
   ],
   "source": [
    "var('x sigma mu M')\n",
    "assume(sigma>0)\n",
    "assume(M>0)\n",
    "model(x) = M * (1/sqrt(2*pi*sigma**2)) * exp(-(x-mu)**2 / (2*sigma**2))\n",
    "fit_result1 = find_fit(data_float, model, initial_guess=[.1, 75, 11])  # Replace with your initial guesses\n",
    "print(fit_result1)"
   ]
  },
  {
   "cell_type": "code",
   "execution_count": 63,
   "metadata": {},
   "outputs": [
    {
     "data": {
      "text/plain": [
       "1565.64642989559"
      ]
     },
     "execution_count": 63,
     "metadata": {},
     "output_type": "execute_result"
    }
   ],
   "source": [
    "N(64479.43 * (1/sqrt(2*pi*(16.43)**2)))"
   ]
  },
  {
   "cell_type": "code",
   "execution_count": 64,
   "metadata": {},
   "outputs": [
    {
     "data": {
      "image/png": "[encoded data removed]",
      "text/plain": [
       "Graphics object consisting of 1 graphics primitive"
      ]
     },
     "metadata": {},
     "output_type": "display_data"
    }
   ],
   "source": [
    "plot1 = list_plot(data_float,color='green')\n",
    "show(plot1)"
   ]
  },
  {
   "cell_type": "code",
   "execution_count": 43,
   "metadata": {},
   "outputs": [],
   "source": [
    "#changing only i"
   ]
  },
  {
   "cell_type": "code",
   "execution_count": 44,
   "metadata": {},
   "outputs": [],
   "source": [
    "with open(\"changingionly.csv\", 'r') as csvfile:\n",
    "    reader = csv.reader(csvfile)\n",
    "    data = []\n",
    "    for row in reader:\n",
    "        data.append(row)\n",
    "    \n",
    "#print(data)\n",
    "\n",
    "data_float = []\n",
    "for i in range(1, len(data)):\n",
    "    data_float.append([float(data[i][0]),float(data[i][1])])\n",
    "#print(data_float)"
   ]
  },
  {
   "cell_type": "code",
   "execution_count": 45,
   "metadata": {},
   "outputs": [
    {
     "name": "stdout",
     "output_type": "stream",
     "text": [
      "[M == 87869.1241874297, mu == 103.1757002317178, sigma == 50.26903052564033]\n"
     ]
    }
   ],
   "source": [
    "var('x sigma mu M')\n",
    "assume(sigma>0)\n",
    "assume(M>0)\n",
    "model(x) = M * (1/sqrt(2*pi*sigma**2)) * exp(-(x-mu)**2 / (2*sigma**2))\n",
    "fit_result1 = find_fit(data_float, model, initial_guess=[.1, 75, 11])  # Replace with your initial guesses\n",
    "print(fit_result1)"
   ]
  },
  {
   "cell_type": "code",
   "execution_count": 46,
   "metadata": {},
   "outputs": [
    {
     "data": {
      "text/plain": [
       "697.342439866859"
      ]
     },
     "execution_count": 46,
     "metadata": {},
     "output_type": "execute_result"
    }
   ],
   "source": [
    "N(87869.12 * (1/sqrt(2*pi*(50.269)**2)))"
   ]
  },
  {
   "cell_type": "code",
   "execution_count": 65,
   "metadata": {},
   "outputs": [
    {
     "data": {
      "image/png": "[encoded data removed]",
      "text/plain": [
       "Graphics object consisting of 1 graphics primitive"
      ]
     },
     "metadata": {},
     "output_type": "display_data"
    }
   ],
   "source": [
    "show(I_plot)"
   ]
  },
  {
   "cell_type": "code",
   "execution_count": 66,
   "metadata": {},
   "outputs": [],
   "source": [
    "#changing only k"
   ]
  },
  {
   "cell_type": "code",
   "execution_count": 68,
   "metadata": {},
   "outputs": [],
   "source": [
    "with open(\"changingonlyk-0.12 - Sheet1.csv\", 'r') as csvfile:\n",
    "    reader = csv.reader(csvfile)\n",
    "    data = []\n",
    "    for row in reader:\n",
    "        data.append(row)\n",
    "    \n",
    "#print(data)\n",
    "\n",
    "data_float = []\n",
    "for i in range(1, len(data)):\n",
    "    data_float.append([float(data[i][0]),float(data[i][1])])\n",
    "#print(data_float)"
   ]
  },
  {
   "cell_type": "code",
   "execution_count": 69,
   "metadata": {},
   "outputs": [
    {
     "name": "stdout",
     "output_type": "stream",
     "text": [
      "[M == 43415.053403731064, mu == 423.61970444320156, sigma == 112.99836492704105]\n"
     ]
    }
   ],
   "source": [
    "var('x sigma mu M')\n",
    "assume(sigma>0)\n",
    "assume(M>0)\n",
    "model(x) = M * (1/sqrt(2*pi*sigma**2)) * exp(-(x-mu)**2 / (2*sigma**2))\n",
    "fit_result1 = find_fit(data_float, model, initial_guess=[.1, 75, 11])  # Replace with your initial guesses\n",
    "print(fit_result1)"
   ]
  },
  {
   "cell_type": "code",
   "execution_count": 70,
   "metadata": {},
   "outputs": [
    {
     "data": {
      "text/plain": [
       "153.277925722068"
      ]
     },
     "execution_count": 70,
     "metadata": {},
     "output_type": "execute_result"
    }
   ],
   "source": [
    "N(43415.05 * (1/sqrt(2*pi*(112.998)**2)))"
   ]
  },
  {
   "cell_type": "code",
   "execution_count": 71,
   "metadata": {},
   "outputs": [],
   "source": [
    "#small k small i"
   ]
  },
  {
   "cell_type": "code",
   "execution_count": 72,
   "metadata": {},
   "outputs": [],
   "source": [
    "with open(\"smallksmalli - Sheet1.csv\", 'r') as csvfile:\n",
    "    reader = csv.reader(csvfile)\n",
    "    data = []\n",
    "    for row in reader:\n",
    "        data.append(row)\n",
    "    \n",
    "#print(data)\n",
    "\n",
    "data_float = []\n",
    "for i in range(1, len(data)):\n",
    "    data_float.append([float(data[i][0]),float(data[i][1])])\n",
    "#print(data_float)"
   ]
  },
  {
   "cell_type": "code",
   "execution_count": 73,
   "metadata": {},
   "outputs": [
    {
     "name": "stdout",
     "output_type": "stream",
     "text": [
      "[M == 99690.40403996751, mu == 323.7126708358761, sigma == 236.90019171911524]\n"
     ]
    }
   ],
   "source": [
    "var('x sigma mu M')\n",
    "assume(sigma>0)\n",
    "assume(M>0)\n",
    "model(x) = M * (1/sqrt(2*pi*sigma**2)) * exp(-(x-mu)**2 / (2*sigma**2))\n",
    "fit_result1 = find_fit(data_float, model, initial_guess=[.1, 75, 11])  # Replace with your initial guesses\n",
    "print(fit_result1)"
   ]
  },
  {
   "cell_type": "code",
   "execution_count": 74,
   "metadata": {},
   "outputs": [
    {
     "data": {
      "text/plain": [
       "167.879761545509"
      ]
     },
     "execution_count": 74,
     "metadata": {},
     "output_type": "execute_result"
    }
   ],
   "source": [
    "N(99690.40 * (1/sqrt(2*pi*(236.90)**2)))"
   ]
  },
  {
   "cell_type": "code",
   "execution_count": 75,
   "metadata": {},
   "outputs": [],
   "source": [
    "#mid k mid i "
   ]
  },
  {
   "cell_type": "code",
   "execution_count": 85,
   "metadata": {},
   "outputs": [],
   "source": [
    "with open(\"midkmidi - Sheet1.csv\", 'r') as csvfile:\n",
    "    reader = csv.reader(csvfile)\n",
    "    data = []\n",
    "    for row in reader:\n",
    "        data.append(row)\n",
    "    \n",
    "#print(data)\n",
    "\n",
    "data_float = []\n",
    "for i in range(1, len(data)):\n",
    "    data_float.append([float(data[i][0]),float(data[i][1])])\n",
    "#print(data_float)"
   ]
  },
  {
   "cell_type": "code",
   "execution_count": 77,
   "metadata": {},
   "outputs": [
    {
     "name": "stdout",
     "output_type": "stream",
     "text": [
      "[M == 69638.61784656919, mu == 41.62097662413533, sigma == 27.7000114794768]\n"
     ]
    }
   ],
   "source": [
    "var('x sigma mu M')\n",
    "assume(sigma>0)\n",
    "assume(M>0)\n",
    "model(x) = M * (1/sqrt(2*pi*sigma**2)) * exp(-(x-mu)**2 / (2*sigma**2))\n",
    "fit_result1 = find_fit(data_float, model, initial_guess=[.1, 75, 11])  # Replace with your initial guesses\n",
    "print(fit_result1)"
   ]
  },
  {
   "cell_type": "code",
   "execution_count": 78,
   "metadata": {},
   "outputs": [
    {
     "data": {
      "text/plain": [
       "1002.95270277288"
      ]
     },
     "execution_count": 78,
     "metadata": {},
     "output_type": "execute_result"
    }
   ],
   "source": [
    "N(69638.62 * (1/sqrt(2*pi*(27.70)**2)))"
   ]
  },
  {
   "cell_type": "code",
   "execution_count": 79,
   "metadata": {},
   "outputs": [],
   "source": [
    "#k a little smaller i same"
   ]
  },
  {
   "cell_type": "code",
   "execution_count": 80,
   "metadata": {},
   "outputs": [],
   "source": [
    "with open(\"k0.11 - Sheet1.csv\", 'r') as csvfile:\n",
    "    reader = csv.reader(csvfile)\n",
    "    data = []\n",
    "    for row in reader:\n",
    "        data.append(row)\n",
    "    \n",
    "#print(data)\n",
    "\n",
    "data_float = []\n",
    "for i in range(1, len(data)):\n",
    "    data_float.append([float(data[i][0]),float(data[i][1])])\n",
    "#print(data_float)"
   ]
  },
  {
   "cell_type": "code",
   "execution_count": 81,
   "metadata": {},
   "outputs": [
    {
     "name": "stdout",
     "output_type": "stream",
     "text": [
      "[M == 80183.80831910676, mu == 45.26026838076631, sigma == 30.538902427088185]\n"
     ]
    }
   ],
   "source": [
    "var('x sigma mu M')\n",
    "assume(sigma>0)\n",
    "assume(M>0)\n",
    "model(x) = M * (1/sqrt(2*pi*sigma**2)) * exp(-(x-mu)**2 / (2*sigma**2))\n",
    "fit_result1 = find_fit(data_float, model, initial_guess=[.1, 75, 11])  # Replace with your initial guesses\n",
    "print(fit_result1)"
   ]
  },
  {
   "cell_type": "code",
   "execution_count": 82,
   "metadata": {},
   "outputs": [
    {
     "data": {
      "text/plain": [
       "1047.43654265472"
      ]
     },
     "execution_count": 82,
     "metadata": {},
     "output_type": "execute_result"
    }
   ],
   "source": [
    "N(80183.81 * (1/sqrt(2*pi*(30.54)**2)))"
   ]
  },
  {
   "cell_type": "code",
   "execution_count": 84,
   "metadata": {},
   "outputs": [
    {
     "data": {
      "image/png": "[encoded data removed]",
      "text/plain": [
       "Graphics object consisting of 1 graphics primitive"
      ]
     },
     "metadata": {},
     "output_type": "display_data"
    }
   ],
   "source": [
    "plot1 = list_plot(data_float,color='green')\n",
    "show(plot1)"
   ]
  },
  {
   "cell_type": "code",
   "execution_count": null,
   "metadata": {},
   "outputs": [],
   "source": []
  }
 ],
 "metadata": {
  "kernelspec": {
   "display_name": "SageMath 10.3",
   "language": "sage",
   "name": "sagemath-10.3"
  },
  "language_info": {
   "codemirror_mode": {
    "name": "ipython",
    "version": 3
   },
   "file_extension": ".py",
   "mimetype": "text/x-python",
   "name": "python",
   "nbconvert_exporter": "python",
   "pygments_lexer": "ipython3",
   "version": "3.11.1"
  }
 },
 "nbformat": 4,
 "nbformat_minor": 4
}
